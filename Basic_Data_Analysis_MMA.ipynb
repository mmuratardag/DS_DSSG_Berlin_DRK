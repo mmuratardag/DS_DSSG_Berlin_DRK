{
 "cells": [
  {
   "cell_type": "markdown",
   "metadata": {},
   "source": [
    "### This notebook is kindly provided by the data ambassador of the DSSG Berlin for a smooth start to the project and to give an overview of the data"
   ]
  },
  {
   "cell_type": "markdown",
   "metadata": {},
   "source": [
    "# Basic Data Analysis of the DRK Jobs dataset"
   ]
  },
  {
   "cell_type": "markdown",
   "metadata": {},
   "source": [
    "## Loading the dataset"
   ]
  },
  {
   "cell_type": "code",
   "execution_count": null,
   "metadata": {},
   "outputs": [],
   "source": [
    "import pandas as pd\n",
    "import matplotlib.pyplot as plt\n",
    "import seaborn as sns\n",
    "import numpy as np"
   ]
  },
  {
   "cell_type": "code",
   "execution_count": null,
   "metadata": {},
   "outputs": [],
   "source": [
    "df = pd.read_parquet(\"DRK_Jobs_basic_merged.parquet.gzip\")"
   ]
  },
  {
   "cell_type": "markdown",
   "metadata": {},
   "source": [
    "## Exploring the dataset"
   ]
  },
  {
   "cell_type": "code",
   "execution_count": null,
   "metadata": {
    "jupyter": {
     "source_hidden": true
    },
    "tags": []
   },
   "outputs": [],
   "source": [
    "df.columns"
   ]
  },
  {
   "cell_type": "code",
   "execution_count": null,
   "metadata": {
    "tags": []
   },
   "outputs": [],
   "source": [
    "df.info()"
   ]
  },
  {
   "cell_type": "code",
   "execution_count": null,
   "metadata": {
    "tags": []
   },
   "outputs": [],
   "source": [
    "df.nunique()"
   ]
  },
  {
   "cell_type": "code",
   "execution_count": null,
   "metadata": {
    "tags": []
   },
   "outputs": [],
   "source": [
    "df.head()"
   ]
  },
  {
   "cell_type": "code",
   "execution_count": null,
   "metadata": {
    "jupyter": {
     "source_hidden": true
    },
    "tags": []
   },
   "outputs": [],
   "source": [
    "df.iloc[0]"
   ]
  },
  {
   "cell_type": "code",
   "execution_count": null,
   "metadata": {},
   "outputs": [],
   "source": [
    "df[\"subject.createdOn\"] = pd.to_datetime(df[\"subject.createdOn\"])"
   ]
  },
  {
   "cell_type": "markdown",
   "metadata": {},
   "source": [
    "## Basic Data Analysis"
   ]
  },
  {
   "cell_type": "code",
   "execution_count": null,
   "metadata": {},
   "outputs": [],
   "source": [
    "df.shape"
   ]
  },
  {
   "cell_type": "markdown",
   "metadata": {
    "jupyter": {
     "source_hidden": true
    },
    "tags": []
   },
   "source": [
    "> There are **1807** job openings in the raw dataset"
   ]
  },
  {
   "cell_type": "code",
   "execution_count": null,
   "metadata": {},
   "outputs": [],
   "source": [
    "employer_job_counts = df[\"subject.employer.meta.name.value\"].value_counts().to_frame()"
   ]
  },
  {
   "cell_type": "code",
   "execution_count": null,
   "metadata": {},
   "outputs": [],
   "source": [
    "employer_job_counts[\"cumsum\"] = 100/df.shape[0] * employer_job_counts[\"subject.employer.meta.name.value\"].cumsum()"
   ]
  },
  {
   "cell_type": "code",
   "execution_count": null,
   "metadata": {},
   "outputs": [],
   "source": [
    "employer_job_counts.shape"
   ]
  },
  {
   "cell_type": "markdown",
   "metadata": {},
   "source": [
    "> There are **234** unique employers posting jobs in the portal. More than 85% of these employers have less than 10 job openings."
   ]
  },
  {
   "cell_type": "code",
   "execution_count": null,
   "metadata": {
    "tags": []
   },
   "outputs": [],
   "source": [
    "fig, ax = plt.subplots(figsize = (5,5), dpi = 100)\n",
    "employer_job_counts[\"subject.employer.meta.name.value\"].hist(bins = 10, weights = 100 * np.ones(employer_job_counts.shape[0])/employer_job_counts.shape[0], ax=ax)\n",
    "ax.set_xlabel(\"Number of job listings per employer\")\n",
    "ax.set_ylabel(\"Percentage of total number of employers\")\n",
    "ax.set_title(\"Histogram of the number of job postings per employer\");"
   ]
  },
  {
   "cell_type": "code",
   "execution_count": null,
   "metadata": {
    "tags": []
   },
   "outputs": [],
   "source": [
    "fig, ax = plt.subplots(figsize = (6,4), dpi = 100)\n",
    "employer_job_counts[\"subject.employer.meta.name.value\"].head(20).plot.barh(ax= ax)\n",
    "ax.set_xlabel(\"Number of job listings\")\n",
    "ax.invert_yaxis()\n",
    "ax.set_title(\"Top 20 employers by number of open job postings\");"
   ]
  },
  {
   "cell_type": "code",
   "execution_count": null,
   "metadata": {},
   "outputs": [],
   "source": [
    "city_job_counts = df[\"subject.location.city\"].value_counts().to_frame()"
   ]
  },
  {
   "cell_type": "code",
   "execution_count": null,
   "metadata": {},
   "outputs": [],
   "source": [
    "city_job_counts[\"cumsum\"] = 100/df.shape[0] * city_job_counts[\"subject.location.city\"].cumsum()"
   ]
  },
  {
   "cell_type": "code",
   "execution_count": null,
   "metadata": {},
   "outputs": [],
   "source": [
    "city_job_counts.shape"
   ]
  },
  {
   "cell_type": "markdown",
   "metadata": {},
   "source": [
    "> There are **360** unique cities with job openings in the portal. More than 90% of these employers have less than 10 job openings."
   ]
  },
  {
   "cell_type": "code",
   "execution_count": null,
   "metadata": {
    "tags": []
   },
   "outputs": [],
   "source": [
    "fig, ax = plt.subplots(figsize = (5,5), dpi = 100)\n",
    "city_job_counts[\"subject.location.city\"].hist(bins = 10, weights = 100 * np.ones(city_job_counts.shape[0])/city_job_counts.shape[0], ax=ax)\n",
    "ax.set_xlabel(\"Number of job listings per city\")\n",
    "ax.set_ylabel(\"Percentage of total number of cities\")\n",
    "ax.set_title(\"Histogram of the number of job postings per city\");"
   ]
  },
  {
   "cell_type": "code",
   "execution_count": null,
   "metadata": {
    "tags": []
   },
   "outputs": [],
   "source": [
    "fig, ax = plt.subplots(figsize = (6,4), dpi = 100)\n",
    "city_job_counts[\"subject.location.city\"].head(20).plot.barh(ax= ax)\n",
    "ax.set_xlabel(\"Number of job listings\")\n",
    "ax.invert_yaxis()\n",
    "ax.set_title(\"Top 20 cities by number of open job postings\");"
   ]
  },
  {
   "cell_type": "code",
   "execution_count": null,
   "metadata": {
    "tags": []
   },
   "outputs": [],
   "source": [
    "fig, ax = plt.subplots(figsize = (6,4), dpi = 100)\n",
    "df[\"subject.employmentTypes\"].value_counts().plot.barh(ax= ax)\n",
    "ax.set_xlabel(\"Number of job listings\")\n",
    "ax.invert_yaxis()\n",
    "ax.set_title(\"Employment Type distribution of job postings\");"
   ]
  },
  {
   "cell_type": "markdown",
   "metadata": {},
   "source": [
    "### Page Views for job openings"
   ]
  },
  {
   "cell_type": "markdown",
   "metadata": {},
   "source": [
    "> Most of the job postings have less than **50 page views**. "
   ]
  },
  {
   "cell_type": "code",
   "execution_count": null,
   "metadata": {
    "tags": []
   },
   "outputs": [],
   "source": [
    "fig, ax = plt.subplots(figsize = (5,5), dpi = 100)\n",
    "df[\"Page_Views\"].plot.hist(bins=20, ax=ax,weights = 100 * np.ones(df.shape[0])/df.shape[0])\n",
    "ax.set_xlabel(\"Number of page views per job posting\")\n",
    "ax.set_ylabel(\"Percentage of job postings\")\n",
    "ax.set_title(\"Histogram of the number of page views per job posting\");"
   ]
  },
  {
   "cell_type": "code",
   "execution_count": null,
   "metadata": {
    "tags": []
   },
   "outputs": [],
   "source": [
    "fig, ax = plt.subplots(figsize = (5,5), dpi = 100)\n",
    "df.plot.scatter(\"Page_Views\", \"Unique_Page_Views\", ax=ax)\n",
    "ax.set_xlabel(\"Number of page views per job posting\")\n",
    "ax.set_ylabel(\"Number of unique page views per job posting\")\n",
    "ax.set_title(\"Distribution of number of page views vs unique views per job posting\");"
   ]
  },
  {
   "cell_type": "markdown",
   "metadata": {},
   "source": [
    "### Top 10 pages by the number of views"
   ]
  },
  {
   "cell_type": "code",
   "execution_count": null,
   "metadata": {
    "tags": []
   },
   "outputs": [],
   "source": [
    "df.sort_values(\"Page_Views\", ascending=False).head(10)"
   ]
  },
  {
   "cell_type": "markdown",
   "metadata": {},
   "source": [
    "### Number of applicants to job openings"
   ]
  },
  {
   "cell_type": "markdown",
   "metadata": {},
   "source": [
    "> Close to **95%** of the applications do not have any applications yet. Around **210** jobs of the **1419** listed have had at least one applicant till now. "
   ]
  },
  {
   "cell_type": "code",
   "execution_count": null,
   "metadata": {
    "tags": []
   },
   "outputs": [],
   "source": [
    "fig, ax = plt.subplots(figsize = (5,5), dpi = 100)\n",
    "df[\"Goal_Completions\"].plot.hist(bins=20, ax=ax,weights = 100 * np.ones(df.shape[0])/df.shape[0])\n",
    "ax.set_xlabel(\"Number of applications per job posting\")\n",
    "ax.set_ylabel(\"Percentage of job postings\")\n",
    "ax.set_title(\"Histogram of the number of applications per job posting\");"
   ]
  },
  {
   "cell_type": "markdown",
   "metadata": {},
   "source": [
    "### Top 10 pages by the number of submitted applications"
   ]
  },
  {
   "cell_type": "code",
   "execution_count": null,
   "metadata": {
    "tags": []
   },
   "outputs": [],
   "source": [
    "df.sort_values(\"Goal_Completions\", ascending=False).head(10)"
   ]
  },
  {
   "cell_type": "code",
   "execution_count": null,
   "metadata": {
    "tags": []
   },
   "outputs": [],
   "source": [
    "fig, ax = plt.subplots(figsize = (6,4), dpi = 100)\n",
    "df.groupby(\"subject.location.city\")[\"Goal_Completions\"].sum().sort_values().tail(20).plot.barh(ax=ax)\n",
    "ax.set_xlabel(\"Number of applications\")\n",
    "ax.set_ylabel(\"\")\n",
    "ax.set_title(\"Top 20 cities by number of job applications\");"
   ]
  },
  {
   "cell_type": "markdown",
   "metadata": {},
   "source": [
    "### Distribution of number of applications vs number of job postings. \n",
    "\n",
    "For 161 jobs there was only one applicant, for 27 jobs there were 2 applicants etc."
   ]
  },
  {
   "cell_type": "code",
   "execution_count": null,
   "metadata": {
    "tags": []
   },
   "outputs": [],
   "source": [
    "df.query(\"`Goal_Completions` > 0\")[\"Goal_Completions\"].value_counts().to_frame().reset_index().rename(columns={'index': 'Number of applications', 'Goal_Completions': 'Number of job postings'})"
   ]
  },
  {
   "cell_type": "code",
   "execution_count": null,
   "metadata": {},
   "outputs": [],
   "source": [
    "# import feather\n",
    "# df.to_feather(\"DRK_Jobs_basic_merged.feather\", pyarrow.feather.write_feather())"
   ]
  },
  {
   "cell_type": "code",
   "execution_count": null,
   "metadata": {},
   "outputs": [],
   "source": [
    "df.to_csv(\"DRK.csv\", index = False)"
   ]
  }
 ],
 "metadata": {
  "interpreter": {
   "hash": "5bcbfb2fca690d0429cb298d87b5ab2c15b484e5440367f2f59eec465a754f13"
  },
  "kernelspec": {
   "display_name": "Python 3",
   "language": "python",
   "name": "python3"
  },
  "language_info": {
   "codemirror_mode": {
    "name": "ipython",
    "version": 3
   },
   "file_extension": ".py",
   "mimetype": "text/x-python",
   "name": "python",
   "nbconvert_exporter": "python",
   "pygments_lexer": "ipython3",
   "version": "3.8.5"
  }
 },
 "nbformat": 4,
 "nbformat_minor": 5
}
